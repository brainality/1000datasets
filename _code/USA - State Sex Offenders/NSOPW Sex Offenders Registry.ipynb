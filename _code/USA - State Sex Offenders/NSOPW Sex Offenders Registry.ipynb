{
 "cells": [
  {
   "cell_type": "markdown",
   "id": "0ddd0512",
   "metadata": {},
   "source": [
    "#### USA   National Sex Offender Public Website (NSOPW)  \n",
    "NSOPW provides public access to sex offenders data in 50 states in USA.The code below scrapes website by State name and first letters of first and last names to get offender name, age, profile link and addresses.\n",
    "\n",
    "https://www.nsopw.gov/search-public-sex-offender-registries\n"
   ]
  },
  {
   "cell_type": "markdown",
   "id": "d08dbe25",
   "metadata": {},
   "source": [
    "### Import modules"
   ]
  },
  {
   "cell_type": "code",
   "execution_count": 4,
   "id": "97c66e48",
   "metadata": {},
   "outputs": [],
   "source": [
    "from itertools import product\n",
    "from selenium import webdriver\n",
    "from selenium.webdriver.common.by import By\n",
    "from selenium.webdriver.support.ui import Select\n",
    "\n",
    "import pandas as pd\n",
    "import re\n",
    "import time\n",
    "import traceback"
   ]
  },
  {
   "cell_type": "markdown",
   "id": "fd0e2afe",
   "metadata": {},
   "source": [
    "### Global variables"
   ]
  },
  {
   "cell_type": "code",
   "execution_count": 5,
   "id": "41e7d501",
   "metadata": {},
   "outputs": [],
   "source": [
    "dictOffenders_final = dict()\n",
    "dictErrors = dict()"
   ]
  },
  {
   "cell_type": "markdown",
   "id": "c36f4570",
   "metadata": {},
   "source": [
    "### Start driver"
   ]
  },
  {
   "cell_type": "code",
   "execution_count": 6,
   "id": "fbaf105f",
   "metadata": {},
   "outputs": [],
   "source": [
    "driver = webdriver.Chrome()"
   ]
  },
  {
   "cell_type": "markdown",
   "id": "1c9e3c1a",
   "metadata": {},
   "source": [
    "### Functions"
   ]
  },
  {
   "cell_type": "code",
   "execution_count": 7,
   "id": "d6a89a38",
   "metadata": {},
   "outputs": [],
   "source": [
    "\n",
    "def get_alphabet():\n",
    "    l1 = list(map(chr,range(97,123)))\n",
    "    ab = list(product(l1, repeat=2))\n",
    "    ln = len(ab)\n",
    "    return ab,ln\n",
    "\n",
    "def set_field_value(firstNameKey, lastNameKey):\n",
    "    inputName = driver.find_element(By.XPATH,'//*[@id=\"firstname\"]')\n",
    "    inputLastName = driver.find_element(By.XPATH,'//*[@id=\"lastname\"]')\n",
    "    \n",
    "    inputName.clear()\n",
    "    inputLastName.clear()\n",
    "    \n",
    "    inputName.send_keys(firstNameKey)\n",
    "    inputLastName.send_keys(lastNameKey)\n",
    "    \n",
    "    return f\"SET First key {firstNameKey} and LastKey {lastNameKey}\"\n",
    "\n",
    "def set_state_abbr(state_abbr):\n",
    "    stateList = Select(driver.find_element(By.XPATH,'//*[@id=\"stateterritory\"]'))\n",
    "    stateList.select_by_value(state_abbr)\n",
    "    return state_abbr\n",
    "\n",
    "def show_all_entries():\n",
    "    showEntries = Select(driver.find_element(By.NAME,'nsopwdt_length'))\n",
    "    showEntries.select_by_value(\"-1\")\n",
    "    \n",
    "    numResults  = driver.find_element(By.XPATH,'//*[@id=\"nsopwdt_info\"]')\n",
    "    result = re.search('of(.*)entries', numResults.text)\n",
    "    NumRecords = int(result.group(1))\n",
    "    return NumRecords\n",
    "\n",
    "\n",
    "\n",
    "def get_entries_data(num_entries,f,l):\n",
    "    \n",
    "    try:\n",
    "        i = 0\n",
    "        Ids = []\n",
    "        Names = []\n",
    "        Ages = []\n",
    "        Aliases = []\n",
    "        Addresses = []\n",
    "        Links = []\n",
    "        Characters = []\n",
    "\n",
    "        for el in range(1,num_entries+1):\n",
    "            Name = driver.find_element(By.XPATH,'//*[@id=\"nsopwdt\"]/tbody/tr['+str(el)+']/td[1]').text.replace(\"\\n\",\" \")\n",
    "            Age = driver.find_element(By.XPATH,'//*[@id=\"nsopwdt\"]/tbody/tr['+str(el)+']/td[2]').text.replace(\"\\n\",\" \")\n",
    "            Address = driver.find_element(By.XPATH,'//*[@id=\"nsopwdt\"]/tbody/tr['+str(el)+']/td[4]').text.replace(\"\\n\",\" \")\n",
    "\n",
    "            href=driver.find_element(By.XPATH,'//*[@id=\"nsopwdt\"]/tbody/tr['+str(el)+']/td[1]/a').get_attribute('href')\n",
    "            resultId = re.search('OfndrID=(.*)&AgencyID', href)\n",
    "            Ids.append(resultId.group(1))\n",
    "            Names.append(Name)\n",
    "            Ages.append(Age)\n",
    "            Addresses.append(Address)\n",
    "            Links.append(href)\n",
    "            Characters.append([f,l])\n",
    "            i=i+1\n",
    "    except :\n",
    "        print(traceback.format_exc())\n",
    "\n",
    "    return Ids,Names,Ages,Addresses,Links,Characters\n"
   ]
  },
  {
   "cell_type": "markdown",
   "id": "852dd5d5",
   "metadata": {},
   "source": [
    "### Start Selenium"
   ]
  },
  {
   "cell_type": "code",
   "execution_count": 8,
   "id": "ba671c64",
   "metadata": {},
   "outputs": [],
   "source": [
    "\n",
    "URL = \"https://www.nsopw.gov/search-public-sex-offender-registries\"\n",
    "driver.get(URL)\n",
    "\n",
    "driver.find_element(By.XPATH,'//*[@id=\"confirmBtn\"]').click()\n",
    "driver.implicitly_wait(10) # seconds"
   ]
  },
  {
   "cell_type": "markdown",
   "id": "fe35d6e5",
   "metadata": {},
   "source": [
    "### Run code"
   ]
  },
  {
   "cell_type": "code",
   "execution_count": 9,
   "id": "d6a30d9c",
   "metadata": {},
   "outputs": [
    {
     "ename": "UnexpectedAlertPresentException",
     "evalue": "Alert Text: The number of characters for first and last names must total to at least 3.\nMessage: unexpected alert open: {Alert text : The number of characters for first and last names must total to at least 3.}\n  (Session info: chrome=130.0.6723.93)\nStacktrace:\n\tGetHandleVerifier [0x00007FF619983B05+28005]\n\t(No symbol) [0x00007FF6198E8400]\n\t(No symbol) [0x00007FF61978580A]\n\t(No symbol) [0x00007FF61981C4A2]\n\t(No symbol) [0x00007FF6197FB7E3]\n\t(No symbol) [0x00007FF6197C75C8]\n\t(No symbol) [0x00007FF6197C8731]\n\tGetHandleVerifier [0x00007FF619C7647D+3118813]\n\tGetHandleVerifier [0x00007FF619CC6CD0+3448624]\n\tGetHandleVerifier [0x00007FF619CBCF4D+3408301]\n\tGetHandleVerifier [0x00007FF619A4A45B+841403]\n\t(No symbol) [0x00007FF6198F345F]\n\t(No symbol) [0x00007FF6198EF4D4]\n\t(No symbol) [0x00007FF6198EF66D]\n\t(No symbol) [0x00007FF6198DEBC9]\n\tBaseThreadInitThunk [0x00007FFAA86A7374+20]\n\tRtlUserThreadStart [0x00007FFAAA0FCC91+33]\n",
     "output_type": "error",
     "traceback": [
      "\u001b[1;31m---------------------------------------------------------------------------\u001b[0m",
      "\u001b[1;31mUnexpectedAlertPresentException\u001b[0m           Traceback (most recent call last)",
      "Cell \u001b[1;32mIn[9], line 24\u001b[0m\n\u001b[0;32m     22\u001b[0m time\u001b[38;5;241m.\u001b[39msleep(\u001b[38;5;241m11\u001b[39m) \u001b[38;5;66;03m# seconds\u001b[39;00m\n\u001b[0;32m     23\u001b[0m \u001b[38;5;28;01mtry\u001b[39;00m:\n\u001b[1;32m---> 24\u001b[0m     numEntries \u001b[38;5;241m=\u001b[39m \u001b[43mshow_all_entries\u001b[49m\u001b[43m(\u001b[49m\u001b[43m)\u001b[49m\n\u001b[0;32m     25\u001b[0m \u001b[38;5;28;01mexcept\u001b[39;00m \u001b[38;5;167;01mAttributeError\u001b[39;00m:\n\u001b[0;32m     26\u001b[0m     \u001b[38;5;28mprint\u001b[39m(\u001b[38;5;124mf\u001b[39m\u001b[38;5;124m\"\u001b[39m\u001b[38;5;124mAttributeError: \u001b[39m\u001b[38;5;132;01m{\u001b[39;00malph[x][\u001b[38;5;241m0\u001b[39m]\u001b[38;5;132;01m}\u001b[39;00m\u001b[38;5;124m and \u001b[39m\u001b[38;5;132;01m{\u001b[39;00malph[x][\u001b[38;5;241m1\u001b[39m]\u001b[38;5;132;01m}\u001b[39;00m\u001b[38;5;124m\"\u001b[39m)\n",
      "Cell \u001b[1;32mIn[7], line 25\u001b[0m, in \u001b[0;36mshow_all_entries\u001b[1;34m()\u001b[0m\n\u001b[0;32m     24\u001b[0m \u001b[38;5;28;01mdef\u001b[39;00m \u001b[38;5;21mshow_all_entries\u001b[39m():\n\u001b[1;32m---> 25\u001b[0m     showEntries \u001b[38;5;241m=\u001b[39m Select(\u001b[43mdriver\u001b[49m\u001b[38;5;241;43m.\u001b[39;49m\u001b[43mfind_element\u001b[49m\u001b[43m(\u001b[49m\u001b[43mBy\u001b[49m\u001b[38;5;241;43m.\u001b[39;49m\u001b[43mNAME\u001b[49m\u001b[43m,\u001b[49m\u001b[38;5;124;43m'\u001b[39;49m\u001b[38;5;124;43mnsopwdt_length\u001b[39;49m\u001b[38;5;124;43m'\u001b[39;49m\u001b[43m)\u001b[49m)\n\u001b[0;32m     26\u001b[0m     showEntries\u001b[38;5;241m.\u001b[39mselect_by_value(\u001b[38;5;124m\"\u001b[39m\u001b[38;5;124m-1\u001b[39m\u001b[38;5;124m\"\u001b[39m)\n\u001b[0;32m     28\u001b[0m     numResults  \u001b[38;5;241m=\u001b[39m driver\u001b[38;5;241m.\u001b[39mfind_element(By\u001b[38;5;241m.\u001b[39mXPATH,\u001b[38;5;124m'\u001b[39m\u001b[38;5;124m//*[@id=\u001b[39m\u001b[38;5;124m\"\u001b[39m\u001b[38;5;124mnsopwdt_info\u001b[39m\u001b[38;5;124m\"\u001b[39m\u001b[38;5;124m]\u001b[39m\u001b[38;5;124m'\u001b[39m)\n",
      "File \u001b[1;32mc:\\Users\\Alina\\AppData\\Local\\Programs\\Python\\Python311\\Lib\\site-packages\\selenium\\webdriver\\remote\\webdriver.py:748\u001b[0m, in \u001b[0;36mWebDriver.find_element\u001b[1;34m(self, by, value)\u001b[0m\n\u001b[0;32m    745\u001b[0m     by \u001b[38;5;241m=\u001b[39m By\u001b[38;5;241m.\u001b[39mCSS_SELECTOR\n\u001b[0;32m    746\u001b[0m     value \u001b[38;5;241m=\u001b[39m \u001b[38;5;124mf\u001b[39m\u001b[38;5;124m'\u001b[39m\u001b[38;5;124m[name=\u001b[39m\u001b[38;5;124m\"\u001b[39m\u001b[38;5;132;01m{\u001b[39;00mvalue\u001b[38;5;132;01m}\u001b[39;00m\u001b[38;5;124m\"\u001b[39m\u001b[38;5;124m]\u001b[39m\u001b[38;5;124m'\u001b[39m\n\u001b[1;32m--> 748\u001b[0m \u001b[38;5;28;01mreturn\u001b[39;00m \u001b[38;5;28;43mself\u001b[39;49m\u001b[38;5;241;43m.\u001b[39;49m\u001b[43mexecute\u001b[49m\u001b[43m(\u001b[49m\u001b[43mCommand\u001b[49m\u001b[38;5;241;43m.\u001b[39;49m\u001b[43mFIND_ELEMENT\u001b[49m\u001b[43m,\u001b[49m\u001b[43m \u001b[49m\u001b[43m{\u001b[49m\u001b[38;5;124;43m\"\u001b[39;49m\u001b[38;5;124;43musing\u001b[39;49m\u001b[38;5;124;43m\"\u001b[39;49m\u001b[43m:\u001b[49m\u001b[43m \u001b[49m\u001b[43mby\u001b[49m\u001b[43m,\u001b[49m\u001b[43m \u001b[49m\u001b[38;5;124;43m\"\u001b[39;49m\u001b[38;5;124;43mvalue\u001b[39;49m\u001b[38;5;124;43m\"\u001b[39;49m\u001b[43m:\u001b[49m\u001b[43m \u001b[49m\u001b[43mvalue\u001b[49m\u001b[43m}\u001b[49m\u001b[43m)\u001b[49m[\u001b[38;5;124m\"\u001b[39m\u001b[38;5;124mvalue\u001b[39m\u001b[38;5;124m\"\u001b[39m]\n",
      "File \u001b[1;32mc:\\Users\\Alina\\AppData\\Local\\Programs\\Python\\Python311\\Lib\\site-packages\\selenium\\webdriver\\remote\\webdriver.py:354\u001b[0m, in \u001b[0;36mWebDriver.execute\u001b[1;34m(self, driver_command, params)\u001b[0m\n\u001b[0;32m    352\u001b[0m response \u001b[38;5;241m=\u001b[39m \u001b[38;5;28mself\u001b[39m\u001b[38;5;241m.\u001b[39mcommand_executor\u001b[38;5;241m.\u001b[39mexecute(driver_command, params)\n\u001b[0;32m    353\u001b[0m \u001b[38;5;28;01mif\u001b[39;00m response:\n\u001b[1;32m--> 354\u001b[0m     \u001b[38;5;28;43mself\u001b[39;49m\u001b[38;5;241;43m.\u001b[39;49m\u001b[43merror_handler\u001b[49m\u001b[38;5;241;43m.\u001b[39;49m\u001b[43mcheck_response\u001b[49m\u001b[43m(\u001b[49m\u001b[43mresponse\u001b[49m\u001b[43m)\u001b[49m\n\u001b[0;32m    355\u001b[0m     response[\u001b[38;5;124m\"\u001b[39m\u001b[38;5;124mvalue\u001b[39m\u001b[38;5;124m\"\u001b[39m] \u001b[38;5;241m=\u001b[39m \u001b[38;5;28mself\u001b[39m\u001b[38;5;241m.\u001b[39m_unwrap_value(response\u001b[38;5;241m.\u001b[39mget(\u001b[38;5;124m\"\u001b[39m\u001b[38;5;124mvalue\u001b[39m\u001b[38;5;124m\"\u001b[39m, \u001b[38;5;28;01mNone\u001b[39;00m))\n\u001b[0;32m    356\u001b[0m     \u001b[38;5;28;01mreturn\u001b[39;00m response\n",
      "File \u001b[1;32mc:\\Users\\Alina\\AppData\\Local\\Programs\\Python\\Python311\\Lib\\site-packages\\selenium\\webdriver\\remote\\errorhandler.py:228\u001b[0m, in \u001b[0;36mErrorHandler.check_response\u001b[1;34m(self, response)\u001b[0m\n\u001b[0;32m    226\u001b[0m     \u001b[38;5;28;01melif\u001b[39;00m \u001b[38;5;124m\"\u001b[39m\u001b[38;5;124malert\u001b[39m\u001b[38;5;124m\"\u001b[39m \u001b[38;5;129;01min\u001b[39;00m value:\n\u001b[0;32m    227\u001b[0m         alert_text \u001b[38;5;241m=\u001b[39m value[\u001b[38;5;124m\"\u001b[39m\u001b[38;5;124malert\u001b[39m\u001b[38;5;124m\"\u001b[39m]\u001b[38;5;241m.\u001b[39mget(\u001b[38;5;124m\"\u001b[39m\u001b[38;5;124mtext\u001b[39m\u001b[38;5;124m\"\u001b[39m)\n\u001b[1;32m--> 228\u001b[0m     \u001b[38;5;28;01mraise\u001b[39;00m exception_class(message, screen, stacktrace, alert_text)  \u001b[38;5;66;03m# type: ignore[call-arg]  # mypy is not smart enough here\u001b[39;00m\n\u001b[0;32m    229\u001b[0m \u001b[38;5;28;01mraise\u001b[39;00m exception_class(message, screen, stacktrace)\n",
      "\u001b[1;31mUnexpectedAlertPresentException\u001b[0m: Alert Text: The number of characters for first and last names must total to at least 3.\nMessage: unexpected alert open: {Alert text : The number of characters for first and last names must total to at least 3.}\n  (Session info: chrome=130.0.6723.93)\nStacktrace:\n\tGetHandleVerifier [0x00007FF619983B05+28005]\n\t(No symbol) [0x00007FF6198E8400]\n\t(No symbol) [0x00007FF61978580A]\n\t(No symbol) [0x00007FF61981C4A2]\n\t(No symbol) [0x00007FF6197FB7E3]\n\t(No symbol) [0x00007FF6197C75C8]\n\t(No symbol) [0x00007FF6197C8731]\n\tGetHandleVerifier [0x00007FF619C7647D+3118813]\n\tGetHandleVerifier [0x00007FF619CC6CD0+3448624]\n\tGetHandleVerifier [0x00007FF619CBCF4D+3408301]\n\tGetHandleVerifier [0x00007FF619A4A45B+841403]\n\t(No symbol) [0x00007FF6198F345F]\n\t(No symbol) [0x00007FF6198EF4D4]\n\t(No symbol) [0x00007FF6198EF66D]\n\t(No symbol) [0x00007FF6198DEBC9]\n\tBaseThreadInitThunk [0x00007FFAA86A7374+20]\n\tRtlUserThreadStart [0x00007FFAAA0FCC91+33]\n"
     ]
    }
   ],
   "source": [
    "###Main \n",
    "alph,length = get_alphabet()\n",
    "total_cumulative_time =0\n",
    "total_start_time = time.time()\n",
    "char_list = list()\n",
    "\n",
    "for x in range(0,length):\n",
    "#for x in range(397,length):\n",
    "\n",
    "    loop_start_time = time.time()\n",
    "    \n",
    "    set_field_value(alph[x][0],alph[x][1])\n",
    "    \n",
    "    # Pass state abbreviation(2 letters)\n",
    "    stateAbbrv = set_state_abbr('MD')\n",
    "    \n",
    "    time.sleep(2) # seconds\n",
    "\n",
    "    driver.find_element(By.XPATH,'//*[@id=\"searchbynamezip\"]').click()\n",
    "    driver.implicitly_wait(13) # seconds\n",
    "\n",
    "    time.sleep(11) # seconds\n",
    "    try:\n",
    "        numEntries = show_all_entries()\n",
    "    except AttributeError:\n",
    "        print(f\"AttributeError: {alph[x][0]} and {alph[x][1]}\")\n",
    "        char_list.append([alph[x][0],alph[x][1]])\n",
    "        dictErrors[stateAbbrv]=char_list\n",
    "        pass\n",
    "    driver.implicitly_wait(13) # seconds\n",
    "\n",
    "    \n",
    "    id,name,age,address,link,character=get_entries_data(numEntries,alph[x][0],alph[x][1])\n",
    "    time.sleep(2) # seconds\n",
    "    \n",
    "\n",
    "    \n",
    "    #Put lists together into dictionary\n",
    "    nms = list(zip(name,age, address,link,character))\n",
    "    dictOffenders = dict(zip(id,nms))\n",
    "    \n",
    "    #Send data to global dictionary\n",
    "    dictOffenders_final.update(dictOffenders)\n",
    "    print(f\"total records processed {len(dictOffenders_final)}\")\n",
    "    \n",
    "    #go back to search page\n",
    "    driver.find_element(By.XPATH,'//*[@id=\"nsopwsearchfilter\"]').click()\n",
    "    time.sleep(2) # seconds\n",
    "    \n",
    "    loop_end_time = time.time()-loop_start_time\n",
    "    total_cumulative_time = total_cumulative_time+loop_end_time\n",
    "    #print(f\"loop end time {loop_end_time}\")\n",
    "    print(f\"total cumulative time  {total_cumulative_time}\")\n",
    "    print(f\"----------------------------------------------------\")\n",
    "    \n",
    "total_elapsed_time = time.time()-total_start_time\n",
    "print(f\"total elapsed time  {total_elapsed_time}\")\n",
    "\n",
    "df = pd.DataFrame.from_dict(dictOffenders_final,orient='index',columns = ['Name','Age','Address','Link','Characters'])\n",
    "df.to_csv('Maryland_Offenders_06112024.csv')"
   ]
  },
  {
   "cell_type": "code",
   "execution_count": null,
   "id": "99c8b871",
   "metadata": {},
   "outputs": [],
   "source": []
  }
 ],
 "metadata": {
  "kernelspec": {
   "display_name": "Python 3",
   "language": "python",
   "name": "python3"
  },
  "language_info": {
   "codemirror_mode": {
    "name": "ipython",
    "version": 3
   },
   "file_extension": ".py",
   "mimetype": "text/x-python",
   "name": "python",
   "nbconvert_exporter": "python",
   "pygments_lexer": "ipython3",
   "version": "3.11.3"
  }
 },
 "nbformat": 4,
 "nbformat_minor": 5
}
