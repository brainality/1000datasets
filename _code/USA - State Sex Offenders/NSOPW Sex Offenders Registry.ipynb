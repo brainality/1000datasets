{
 "cells": [
  {
   "cell_type": "markdown",
   "id": "0ddd0512",
   "metadata": {},
   "source": [
    "#### USA   National Sex Offender Public Website (NSOPW)  \n",
    "NSOPW provides public access to sex offenders data in 50 states in USA.The code below scrapes website by State name and first letters of first and last names to get offender name, age, profile link and addresses.\n",
    "\n",
    "https://www.nsopw.gov/search-public-sex-offender-registries\n"
   ]
  },
  {
   "cell_type": "markdown",
   "id": "d08dbe25",
   "metadata": {},
   "source": [
    "### Import modules"
   ]
  },
  {
   "cell_type": "code",
   "execution_count": 37,
   "id": "97c66e48",
   "metadata": {},
   "outputs": [],
   "source": [
    "from itertools import product\n",
    "from selenium import webdriver\n",
    "from selenium.webdriver.common.by import By\n",
    "from selenium.webdriver.support.ui import Select\n",
    "\n",
    "import pandas as pd\n",
    "import re\n",
    "import time\n",
    "import traceback"
   ]
  },
  {
   "cell_type": "markdown",
   "id": "fd0e2afe",
   "metadata": {},
   "source": [
    "### Global variables"
   ]
  },
  {
   "cell_type": "code",
   "execution_count": 38,
   "id": "41e7d501",
   "metadata": {},
   "outputs": [],
   "source": [
    "dictOffenders_final = dict()\n",
    "dictErrors = dict()"
   ]
  },
  {
   "cell_type": "markdown",
   "id": "c36f4570",
   "metadata": {},
   "source": [
    "### Start driver"
   ]
  },
  {
   "cell_type": "code",
   "execution_count": 39,
   "id": "fbaf105f",
   "metadata": {},
   "outputs": [],
   "source": [
    "driver = webdriver.Chrome()"
   ]
  },
  {
   "cell_type": "markdown",
   "id": "1c9e3c1a",
   "metadata": {},
   "source": [
    "### Functions"
   ]
  },
  {
   "cell_type": "code",
   "execution_count": 40,
   "id": "d6a89a38",
   "metadata": {},
   "outputs": [],
   "source": [
    "\n",
    "def get_alphabet():\n",
    "    l1 = list(map(chr,range(97,123)))\n",
    "    ab = list(product(l1, repeat=2))\n",
    "    abc = list(product(ab,l1, repeat=1))\n",
    "    ln = len(abc)\n",
    "    return abc,ln\n",
    "\n",
    "def set_field_value(firstNameKey, lastNameKey):\n",
    "    inputName = driver.find_element(By.XPATH,'//*[@id=\"firstname\"]')\n",
    "    inputLastName = driver.find_element(By.XPATH,'//*[@id=\"lastname\"]')\n",
    "    \n",
    "    inputName.clear()\n",
    "    inputLastName.clear()\n",
    "    \n",
    "    inputName.send_keys(firstNameKey)\n",
    "    inputLastName.send_keys(lastNameKey)\n",
    "    \n",
    "    return f\"SET First key {firstNameKey} and LastKey {lastNameKey}\"\n",
    "\n",
    "def set_state_abbr(state_abbr):\n",
    "    stateList = Select(driver.find_element(By.XPATH,'//*[@id=\"stateterritory\"]'))\n",
    "    stateList.select_by_value(state_abbr)\n",
    "    return state_abbr\n",
    "\n",
    "def show_all_entries():\n",
    "    showEntries = Select(driver.find_element(By.NAME,'nsopwdt_length'))\n",
    "    showEntries.select_by_value(\"-1\")\n",
    "    \n",
    "    numResults  = driver.find_element(By.XPATH,'//*[@id=\"nsopwdt_info\"]')\n",
    "    result = re.search('of(.*)entries', numResults.text)\n",
    "    NumRecords = int(result.group(1))\n",
    "    return NumRecords\n",
    "\n",
    "\n",
    "\n",
    "def get_entries_data(num_entries,f,l):\n",
    "    \n",
    "    try:\n",
    "        i = 0\n",
    "        Ids = []\n",
    "        Names = []\n",
    "        Ages = []\n",
    "        Aliases = []\n",
    "        Addresses = []\n",
    "        Links = []\n",
    "        Characters = []\n",
    "\n",
    "        for el in range(1,num_entries+1):\n",
    "            Name = driver.find_element(By.XPATH,'//*[@id=\"nsopwdt\"]/tbody/tr['+str(el)+']/td[1]').text.replace(\"\\n\",\" \")\n",
    "            Age = driver.find_element(By.XPATH,'//*[@id=\"nsopwdt\"]/tbody/tr['+str(el)+']/td[2]').text.replace(\"\\n\",\" \")\n",
    "            Address = driver.find_element(By.XPATH,'//*[@id=\"nsopwdt\"]/tbody/tr['+str(el)+']/td[4]').text.replace(\"\\n\",\" \")\n",
    "\n",
    "            href=driver.find_element(By.XPATH,'//*[@id=\"nsopwdt\"]/tbody/tr['+str(el)+']/td[1]/a').get_attribute('href')\n",
    "            resultId = re.search('OfndrID=(.*)&AgencyID', href)\n",
    "            Ids.append(resultId.group(1))\n",
    "            Names.append(Name)\n",
    "            Ages.append(Age)\n",
    "            Addresses.append(Address)\n",
    "            Links.append(href)\n",
    "            Characters.append([f,l])\n",
    "            i=i+1\n",
    "    except :\n",
    "        print(traceback.format_exc())\n",
    "\n",
    "    return Ids,Names,Ages,Addresses,Links,Characters\n"
   ]
  },
  {
   "cell_type": "markdown",
   "id": "852dd5d5",
   "metadata": {},
   "source": [
    "### Start Selenium"
   ]
  },
  {
   "cell_type": "code",
   "execution_count": 41,
   "id": "ba671c64",
   "metadata": {},
   "outputs": [],
   "source": [
    "\n",
    "URL = \"https://www.nsopw.gov/search-public-sex-offender-registries\"\n",
    "driver.get(URL)\n",
    "\n",
    "driver.find_element(By.XPATH,'//*[@id=\"confirmBtn\"]').click()\n",
    "driver.implicitly_wait(10) # seconds"
   ]
  },
  {
   "cell_type": "markdown",
   "id": "fe35d6e5",
   "metadata": {},
   "source": [
    "### Run code"
   ]
  },
  {
   "cell_type": "code",
   "execution_count": null,
   "id": "d6a30d9c",
   "metadata": {},
   "outputs": [],
   "source": [
    "###Main \n",
    "alph,length = get_alphabet()\n",
    "total_cumulative_time =0\n",
    "total_start_time = time.time()\n",
    "char_list = list()\n",
    "\n",
    "for x in range(0,length):\n",
    "#for x in range(397,length):\n",
    "\n",
    "    loop_start_time = time.time()\n",
    "    \n",
    "    print(\"\".join(alph[x][0]))\n",
    "    set_field_value(\"\".join(alph[x][0]),alph[x][1])\n",
    "    \n",
    "    # Pass state abbreviation(2 letters)\n",
    "    #driver.implicitly_wait(2)\n",
    "    stateAbbrv = set_state_abbr('VT')\n",
    "    \n",
    "    #time.sleep(1) # seconds\n",
    "    #driver.implicitly_wait(2)\n",
    "    driver.find_element(By.XPATH,'//*[@id=\"searchbynamezip\"]').click()\n",
    "    #driver.implicitly_wait(2) # seconds\n",
    "\n",
    "    time.sleep(4) # seconds\n",
    "    #driver.implicitly_wait(4)\n",
    "    try:\n",
    "        numEntries = show_all_entries()\n",
    "    except AttributeError:\n",
    "        print(f\"AttributeError: {alph[x][0]} and {alph[x][1]}\")\n",
    "        char_list.append([\"\".join(alph[x][0]),alph[x][1]])\n",
    "        dictErrors[stateAbbrv]=char_list\n",
    "        pass\n",
    "    #driver.implicitly_wait(6) # seconds\n",
    "\n",
    "    \n",
    "    id,name,age,address,link,character=get_entries_data( numEntries,\"\".join(alph[x][0]),alph[x][1] )\n",
    "    #time.sleep(2) # seconds\n",
    "    #driver.implicitly_wait(2)\n",
    "    \n",
    "\n",
    "    \n",
    "    #Put lists together into dictionary\n",
    "    nms = list(zip(name,age, address,link,character))\n",
    "    dictOffenders = dict(zip(id,nms))\n",
    "    \n",
    "    #Send data to global dictionary\n",
    "    dictOffenders_final.update(dictOffenders)\n",
    "    print(f\"total records processed {len(dictOffenders_final)}\")\n",
    "    \n",
    "    #go back to search page\n",
    "    driver.find_element(By.XPATH,'//*[@id=\"nsopwsearchfilter\"]').click()\n",
    "    time.sleep(2) # seconds\n",
    "    \n",
    "    loop_end_time = time.time()-loop_start_time\n",
    "    total_cumulative_time = total_cumulative_time+loop_end_time\n",
    "    #print(f\"loop end time {loop_end_time}\")\n",
    "    print(f\"total cumulative time  {total_cumulative_time}\")\n",
    "    print(f\"----------------------------------------------------\")\n",
    "    \n",
    "total_elapsed_time = time.time()-total_start_time\n",
    "print(f\"total elapsed time  {total_elapsed_time}\")\n",
    "\n",
    "df = pd.DataFrame.from_dict(dictOffenders_final,orient='index',columns = ['Name','Age','Address','Link','Characters'])\n",
    "df.to_csv('Vermont_Offenders_06112024.csv')"
   ]
  },
  {
   "cell_type": "code",
   "execution_count": null,
   "id": "99c8b871",
   "metadata": {},
   "outputs": [],
   "source": []
  }
 ],
 "metadata": {
  "kernelspec": {
   "display_name": "Python 3",
   "language": "python",
   "name": "python3"
  },
  "language_info": {
   "codemirror_mode": {
    "name": "ipython",
    "version": 3
   },
   "file_extension": ".py",
   "mimetype": "text/x-python",
   "name": "python",
   "nbconvert_exporter": "python",
   "pygments_lexer": "ipython3",
   "version": "3.11.3"
  }
 },
 "nbformat": 4,
 "nbformat_minor": 5
}
